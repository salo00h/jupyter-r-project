{
 "cells": [
  {
   "cell_type": "markdown",
   "id": "c8d33728-80ca-4c01-b12f-c68bbe49a506",
   "metadata": {},
   "source": [
    "# Analyse des Données du DELF : Inscriptions, Présences et Admissions\n",
    "le DELF (Diplôme d'Études en Langue Française) est une certification officelle  reconnue internationalement qui valide les compéténces en lanque francaise pour les non-francophones . il est structuré en Niveaux (A1 à C2) et évalue l'expression orale et écrit , anisi que la compréhension orale et écrite\n",
    "\n",
    "Le fichier contient des données sur le DELF : inscription , présences , admission par Pays , Ville , centre , Niveau , année et codes ISO/géographiques.\n"
   ]
  },
  {
   "cell_type": "markdown",
   "id": "9f1e739f-dc63-44d1-82ec-f78d1187dd2a",
   "metadata": {},
   "source": [
    "## Charger et Explorer les Donées "
   ]
  },
  {
   "cell_type": "markdown",
   "id": "af95c666-fea2-46f8-9147-55e4feeff899",
   "metadata": {},
   "source": [
    "#### Utilisation de Codes Simples et Résolution d'Encodage avec ChatGPT\n",
    "\n",
    "Nous n'avons pas utilisé de package spécifique pour exploiter les données. Chaque fois que j'essayais de charger un package ou d'utiliser la fonction library, une erreur apparaissait. C'est pourquoi nous avons utilisé des codes simples provenant du code de base.\n",
    "\n",
    "De plus, nous avons utilisé ChatGPT pour résoudre un problème lié à l'encodage du fichier. En effet, lors de l'affichage du tableau, des caractères étranges comme #@$#$ apparaissaient avant le mot \"pays\". Je n'ai pas pu résoudre ce problème jusqu'à ce que ChatGPT me suggère d'utiliser fileEncoding = \"UTF-8-BOM\", ce qui a corrigé l'affichage du fichier."
   ]
  },
  {
   "cell_type": "markdown",
   "id": "748295c0-beae-411b-ae64-a9a03a30d63c",
   "metadata": {},
   "source": [
    "**Charger le fichier**"
   ]
  },
  {
   "cell_type": "markdown",
   "id": "6f415d55-4c6f-4910-b5b0-c93b442dff97",
   "metadata": {},
   "source": [
    "Ici, nous chargeons notre fichier de données qui contient les informations à analyser.\n",
    "\n",
    "Pour exploiter un fichier Excel en langage R, le package readxl est une solution efficace offrant des fonctions adaptées à cette tâche. Avant de l'utiliser, il est essentiel de vérifier s'il est installé et, le cas échéant, procéder à son installation :"
   ]
  },
  {
   "cell_type": "code",
   "execution_count": 1,
   "id": "8461a3f9-55e7-4f90-8a26-46a1bfea7637",
   "metadata": {},
   "outputs": [
    {
     "data": {
      "text/html": [
       "<table>\n",
       "<thead><tr><th scope=col>Pays</th><th scope=col>Ville</th><th scope=col>Centre</th><th scope=col>Declinaison</th><th scope=col>Niveau</th><th scope=col>Annee</th><th scope=col>Inscrits</th><th scope=col>Presents</th><th scope=col>Admis</th><th scope=col>ISO_pays</th><th scope=col>COG_pays</th></tr></thead>\n",
       "<tbody>\n",
       "\t<tr><td>Mexique                                                     </td><td>Juárez                                                      </td><td>Alianza Francesa de Cd Juárez,  A.C                         </td><td>DELF scolaire/junior                                        </td><td>B1                                                          </td><td>2023                                                        </td><td> 1                                                          </td><td> 1                                                          </td><td> 1                                                          </td><td>MEX                                                         </td><td>99405                                                       </td></tr>\n",
       "\t<tr><td>Mexique                                                     </td><td>Juárez                                                      </td><td>Alianza Francesa de Cd Juárez,  A.C                         </td><td>DELF-DALF tout public                                       </td><td>A1                                                          </td><td>2023                                                        </td><td> 1                                                          </td><td> 1                                                          </td><td> 1                                                          </td><td>MEX                                                         </td><td>99405                                                       </td></tr>\n",
       "\t<tr><td>Mexique                                                     </td><td>Juárez                                                      </td><td>Alianza Francesa de Cd Juárez,  A.C                         </td><td>DELF-DALF tout public                                       </td><td>B1                                                          </td><td>2023                                                        </td><td>14                                                          </td><td>13                                                          </td><td>10                                                          </td><td>MEX                                                         </td><td>99405                                                       </td></tr>\n",
       "\t<tr><td>France                                                      </td><td>Cayenne Cedex                                               </td><td>Centre pénitentiaire de Guyane,  Unité locale d'enseignement</td><td>DELF-DALF tout public                                       </td><td>A1                                                          </td><td>2023                                                        </td><td> 6                                                          </td><td> 6                                                          </td><td> 6                                                          </td><td>FRA                                                         </td><td>99100                                                       </td></tr>\n",
       "\t<tr><td>France                                                      </td><td>Cayenne Cedex                                               </td><td>Centre pénitentiaire de Guyane,  Unité locale d'enseignement</td><td>DELF-DALF tout public                                       </td><td>A2                                                          </td><td>2023                                                        </td><td>10                                                          </td><td>10                                                          </td><td>10                                                          </td><td>FRA                                                         </td><td>99100                                                       </td></tr>\n",
       "\t<tr><td>France                                                      </td><td>Fresnes                                                     </td><td>Centre Pénitentiaire des Hauts de Seine,  Nanterre          </td><td>DELF-DALF tout public                                       </td><td>A1                                                          </td><td>2023                                                        </td><td> 8                                                          </td><td> 7                                                          </td><td> 7                                                          </td><td>FRA                                                         </td><td>99100                                                       </td></tr>\n",
       "</tbody>\n",
       "</table>\n"
      ],
      "text/latex": [
       "\\begin{tabular}{r|lllllllllll}\n",
       " Pays & Ville & Centre & Declinaison & Niveau & Annee & Inscrits & Presents & Admis & ISO\\_pays & COG\\_pays\\\\\n",
       "\\hline\n",
       "\t Mexique                                                      & Juárez                                                       & Alianza Francesa de Cd Juárez,  A.C                          & DELF scolaire/junior                                         & B1                                                           & 2023                                                         &  1                                                           &  1                                                           &  1                                                           & MEX                                                          & 99405                                                       \\\\\n",
       "\t Mexique                                                      & Juárez                                                       & Alianza Francesa de Cd Juárez,  A.C                          & DELF-DALF tout public                                        & A1                                                           & 2023                                                         &  1                                                           &  1                                                           &  1                                                           & MEX                                                          & 99405                                                       \\\\\n",
       "\t Mexique                                                      & Juárez                                                       & Alianza Francesa de Cd Juárez,  A.C                          & DELF-DALF tout public                                        & B1                                                           & 2023                                                         & 14                                                           & 13                                                           & 10                                                           & MEX                                                          & 99405                                                       \\\\\n",
       "\t France                                                       & Cayenne Cedex                                                & Centre pénitentiaire de Guyane,  Unité locale d'enseignement & DELF-DALF tout public                                        & A1                                                           & 2023                                                         &  6                                                           &  6                                                           &  6                                                           & FRA                                                          & 99100                                                       \\\\\n",
       "\t France                                                       & Cayenne Cedex                                                & Centre pénitentiaire de Guyane,  Unité locale d'enseignement & DELF-DALF tout public                                        & A2                                                           & 2023                                                         & 10                                                           & 10                                                           & 10                                                           & FRA                                                          & 99100                                                       \\\\\n",
       "\t France                                                       & Fresnes                                                      & Centre Pénitentiaire des Hauts de Seine,  Nanterre           & DELF-DALF tout public                                        & A1                                                           & 2023                                                         &  8                                                           &  7                                                           &  7                                                           & FRA                                                          & 99100                                                       \\\\\n",
       "\\end{tabular}\n"
      ],
      "text/markdown": [
       "\n",
       "| Pays | Ville | Centre | Declinaison | Niveau | Annee | Inscrits | Presents | Admis | ISO_pays | COG_pays |\n",
       "|---|---|---|---|---|---|---|---|---|---|---|\n",
       "| Mexique                                                      | Juárez                                                       | Alianza Francesa de Cd Juárez,  A.C                          | DELF scolaire/junior                                         | B1                                                           | 2023                                                         |  1                                                           |  1                                                           |  1                                                           | MEX                                                          | 99405                                                        |\n",
       "| Mexique                                                      | Juárez                                                       | Alianza Francesa de Cd Juárez,  A.C                          | DELF-DALF tout public                                        | A1                                                           | 2023                                                         |  1                                                           |  1                                                           |  1                                                           | MEX                                                          | 99405                                                        |\n",
       "| Mexique                                                      | Juárez                                                       | Alianza Francesa de Cd Juárez,  A.C                          | DELF-DALF tout public                                        | B1                                                           | 2023                                                         | 14                                                           | 13                                                           | 10                                                           | MEX                                                          | 99405                                                        |\n",
       "| France                                                       | Cayenne Cedex                                                | Centre pénitentiaire de Guyane,  Unité locale d'enseignement | DELF-DALF tout public                                        | A1                                                           | 2023                                                         |  6                                                           |  6                                                           |  6                                                           | FRA                                                          | 99100                                                        |\n",
       "| France                                                       | Cayenne Cedex                                                | Centre pénitentiaire de Guyane,  Unité locale d'enseignement | DELF-DALF tout public                                        | A2                                                           | 2023                                                         | 10                                                           | 10                                                           | 10                                                           | FRA                                                          | 99100                                                        |\n",
       "| France                                                       | Fresnes                                                      | Centre Pénitentiaire des Hauts de Seine,  Nanterre           | DELF-DALF tout public                                        | A1                                                           | 2023                                                         |  8                                                           |  7                                                           |  7                                                           | FRA                                                          | 99100                                                        |\n",
       "\n"
      ],
      "text/plain": [
       "  Pays    Ville        \n",
       "1 Mexique Juárez       \n",
       "2 Mexique Juárez       \n",
       "3 Mexique Juárez       \n",
       "4 France  Cayenne Cedex\n",
       "5 France  Cayenne Cedex\n",
       "6 France  Fresnes      \n",
       "  Centre                                                      \n",
       "1 Alianza Francesa de Cd Juárez,  A.C                         \n",
       "2 Alianza Francesa de Cd Juárez,  A.C                         \n",
       "3 Alianza Francesa de Cd Juárez,  A.C                         \n",
       "4 Centre pénitentiaire de Guyane,  Unité locale d'enseignement\n",
       "5 Centre pénitentiaire de Guyane,  Unité locale d'enseignement\n",
       "6 Centre Pénitentiaire des Hauts de Seine,  Nanterre          \n",
       "  Declinaison           Niveau Annee Inscrits Presents Admis ISO_pays COG_pays\n",
       "1 DELF scolaire/junior  B1     2023   1        1        1    MEX      99405   \n",
       "2 DELF-DALF tout public A1     2023   1        1        1    MEX      99405   \n",
       "3 DELF-DALF tout public B1     2023  14       13       10    MEX      99405   \n",
       "4 DELF-DALF tout public A1     2023   6        6        6    FRA      99100   \n",
       "5 DELF-DALF tout public A2     2023  10       10       10    FRA      99100   \n",
       "6 DELF-DALF tout public A1     2023   8        7        7    FRA      99100   "
      ]
     },
     "metadata": {},
     "output_type": "display_data"
    }
   ],
   "source": [
    "data <- read.csv(\"delf.csv\", sep = \";\", header = TRUE, fileEncoding = \"UTF-8-BOM\")\n",
    "\n",
    "head(data)"
   ]
  },
  {
   "cell_type": "markdown",
   "id": "371ddaf1-77e6-4742-b722-1585005cbecc",
   "metadata": {},
   "source": [
    "## Nettoyage des données \n",
    "Nous avons supprimé les colonnes \"ISO_pays\", \"COG_pays\" et \"Annee\" de l'ensemble de données, car l'année est déjà fixée à 2023 et le code des pays n'apporte pas d'information significative pour notre analyse."
   ]
  },
  {
   "cell_type": "code",
   "execution_count": 2,
   "id": "de55e717-c44e-4245-94dc-f893d0928ede",
   "metadata": {},
   "outputs": [
    {
     "data": {
      "text/html": [
       "<table>\n",
       "<thead><tr><th scope=col>Pays</th><th scope=col>Ville</th><th scope=col>Centre</th><th scope=col>Declinaison</th><th scope=col>Niveau</th><th scope=col>Inscrits</th><th scope=col>Presents</th><th scope=col>Admis</th></tr></thead>\n",
       "<tbody>\n",
       "\t<tr><td>Mexique                                                     </td><td>Juárez                                                      </td><td>Alianza Francesa de Cd Juárez,  A.C                         </td><td>DELF scolaire/junior                                        </td><td>B1                                                          </td><td> 1                                                          </td><td> 1                                                          </td><td> 1                                                          </td></tr>\n",
       "\t<tr><td>Mexique                                                     </td><td>Juárez                                                      </td><td>Alianza Francesa de Cd Juárez,  A.C                         </td><td>DELF-DALF tout public                                       </td><td>A1                                                          </td><td> 1                                                          </td><td> 1                                                          </td><td> 1                                                          </td></tr>\n",
       "\t<tr><td>Mexique                                                     </td><td>Juárez                                                      </td><td>Alianza Francesa de Cd Juárez,  A.C                         </td><td>DELF-DALF tout public                                       </td><td>B1                                                          </td><td>14                                                          </td><td>13                                                          </td><td>10                                                          </td></tr>\n",
       "\t<tr><td>France                                                      </td><td>Cayenne Cedex                                               </td><td>Centre pénitentiaire de Guyane,  Unité locale d'enseignement</td><td>DELF-DALF tout public                                       </td><td>A1                                                          </td><td> 6                                                          </td><td> 6                                                          </td><td> 6                                                          </td></tr>\n",
       "\t<tr><td>France                                                      </td><td>Cayenne Cedex                                               </td><td>Centre pénitentiaire de Guyane,  Unité locale d'enseignement</td><td>DELF-DALF tout public                                       </td><td>A2                                                          </td><td>10                                                          </td><td>10                                                          </td><td>10                                                          </td></tr>\n",
       "\t<tr><td>France                                                      </td><td>Fresnes                                                     </td><td>Centre Pénitentiaire des Hauts de Seine,  Nanterre          </td><td>DELF-DALF tout public                                       </td><td>A1                                                          </td><td> 8                                                          </td><td> 7                                                          </td><td> 7                                                          </td></tr>\n",
       "</tbody>\n",
       "</table>\n"
      ],
      "text/latex": [
       "\\begin{tabular}{r|llllllll}\n",
       " Pays & Ville & Centre & Declinaison & Niveau & Inscrits & Presents & Admis\\\\\n",
       "\\hline\n",
       "\t Mexique                                                      & Juárez                                                       & Alianza Francesa de Cd Juárez,  A.C                          & DELF scolaire/junior                                         & B1                                                           &  1                                                           &  1                                                           &  1                                                          \\\\\n",
       "\t Mexique                                                      & Juárez                                                       & Alianza Francesa de Cd Juárez,  A.C                          & DELF-DALF tout public                                        & A1                                                           &  1                                                           &  1                                                           &  1                                                          \\\\\n",
       "\t Mexique                                                      & Juárez                                                       & Alianza Francesa de Cd Juárez,  A.C                          & DELF-DALF tout public                                        & B1                                                           & 14                                                           & 13                                                           & 10                                                          \\\\\n",
       "\t France                                                       & Cayenne Cedex                                                & Centre pénitentiaire de Guyane,  Unité locale d'enseignement & DELF-DALF tout public                                        & A1                                                           &  6                                                           &  6                                                           &  6                                                          \\\\\n",
       "\t France                                                       & Cayenne Cedex                                                & Centre pénitentiaire de Guyane,  Unité locale d'enseignement & DELF-DALF tout public                                        & A2                                                           & 10                                                           & 10                                                           & 10                                                          \\\\\n",
       "\t France                                                       & Fresnes                                                      & Centre Pénitentiaire des Hauts de Seine,  Nanterre           & DELF-DALF tout public                                        & A1                                                           &  8                                                           &  7                                                           &  7                                                          \\\\\n",
       "\\end{tabular}\n"
      ],
      "text/markdown": [
       "\n",
       "| Pays | Ville | Centre | Declinaison | Niveau | Inscrits | Presents | Admis |\n",
       "|---|---|---|---|---|---|---|---|\n",
       "| Mexique                                                      | Juárez                                                       | Alianza Francesa de Cd Juárez,  A.C                          | DELF scolaire/junior                                         | B1                                                           |  1                                                           |  1                                                           |  1                                                           |\n",
       "| Mexique                                                      | Juárez                                                       | Alianza Francesa de Cd Juárez,  A.C                          | DELF-DALF tout public                                        | A1                                                           |  1                                                           |  1                                                           |  1                                                           |\n",
       "| Mexique                                                      | Juárez                                                       | Alianza Francesa de Cd Juárez,  A.C                          | DELF-DALF tout public                                        | B1                                                           | 14                                                           | 13                                                           | 10                                                           |\n",
       "| France                                                       | Cayenne Cedex                                                | Centre pénitentiaire de Guyane,  Unité locale d'enseignement | DELF-DALF tout public                                        | A1                                                           |  6                                                           |  6                                                           |  6                                                           |\n",
       "| France                                                       | Cayenne Cedex                                                | Centre pénitentiaire de Guyane,  Unité locale d'enseignement | DELF-DALF tout public                                        | A2                                                           | 10                                                           | 10                                                           | 10                                                           |\n",
       "| France                                                       | Fresnes                                                      | Centre Pénitentiaire des Hauts de Seine,  Nanterre           | DELF-DALF tout public                                        | A1                                                           |  8                                                           |  7                                                           |  7                                                           |\n",
       "\n"
      ],
      "text/plain": [
       "  Pays    Ville        \n",
       "1 Mexique Juárez       \n",
       "2 Mexique Juárez       \n",
       "3 Mexique Juárez       \n",
       "4 France  Cayenne Cedex\n",
       "5 France  Cayenne Cedex\n",
       "6 France  Fresnes      \n",
       "  Centre                                                      \n",
       "1 Alianza Francesa de Cd Juárez,  A.C                         \n",
       "2 Alianza Francesa de Cd Juárez,  A.C                         \n",
       "3 Alianza Francesa de Cd Juárez,  A.C                         \n",
       "4 Centre pénitentiaire de Guyane,  Unité locale d'enseignement\n",
       "5 Centre pénitentiaire de Guyane,  Unité locale d'enseignement\n",
       "6 Centre Pénitentiaire des Hauts de Seine,  Nanterre          \n",
       "  Declinaison           Niveau Inscrits Presents Admis\n",
       "1 DELF scolaire/junior  B1      1        1        1   \n",
       "2 DELF-DALF tout public A1      1        1        1   \n",
       "3 DELF-DALF tout public B1     14       13       10   \n",
       "4 DELF-DALF tout public A1      6        6        6   \n",
       "5 DELF-DALF tout public A2     10       10       10   \n",
       "6 DELF-DALF tout public A1      8        7        7   "
      ]
     },
     "metadata": {},
     "output_type": "display_data"
    }
   ],
   "source": [
    "data <- subset(data, select = -c(ISO_pays, COG_pays, Annee))\n",
    "\n",
    "head(data)\n"
   ]
  },
  {
   "cell_type": "markdown",
   "id": "46f5c7dc-1905-4a05-afb5-56a19fba1a58",
   "metadata": {},
   "source": [
    "Comme nous pouvons le voir, nous avons huit colonnes, mais nous ne pouvons pas connaître le nombre de lignes. C'est pourquoi nous allons maintenant déterminer le nombre de lignes avec l'équation suivante"
   ]
  },
  {
   "cell_type": "code",
   "execution_count": 3,
   "id": "9825210e-f294-4155-9192-2340822a1ff4",
   "metadata": {},
   "outputs": [
    {
     "data": {
      "text/html": [
       "7573"
      ],
      "text/latex": [
       "7573"
      ],
      "text/markdown": [
       "7573"
      ],
      "text/plain": [
       "[1] 7573"
      ]
     },
     "metadata": {},
     "output_type": "display_data"
    }
   ],
   "source": [
    "nrow(data)  # Renvoie le nombre de lignes\n"
   ]
  },
  {
   "cell_type": "markdown",
   "id": "dfe9ac0f-c2cb-485d-8dca-6b2645d2215b",
   "metadata": {},
   "source": [
    "Nous avons utilisé la fonction summary() pour générer un résumé statistique des données après avoir supprimé les colonnes non pertinentes. Cela nous a permis d'obtenir une vue d'ensemble des principales caractéristiques statistiques des variables restantes, telles que les valeurs minimales, maximales, la moyenne et l'écart-type"
   ]
  },
  {
   "cell_type": "code",
   "execution_count": 4,
   "id": "e7e80544-dc06-4407-8cdf-6010ee63bdc1",
   "metadata": {},
   "outputs": [
    {
     "data": {
      "text/plain": [
       "                   Pays                   Ville     \n",
       " France              : 703   Ciudad De México:  61  \n",
       " Mexique             : 460   Lyon            :  40  \n",
       " Espagne             : 394   Marseille       :  33  \n",
       " Grèce               : 394   Madrid          :  32  \n",
       " Fédération de Russie: 271   Buenos Aires    :  29  \n",
       " Italie              : 271   Jakarta         :  29  \n",
       " (Other)             :5080   (Other)         :7349  \n",
       "                            Centre                    Declinaison    Niveau    \n",
       " Alliance française            :  17   DELF-DALF tout public:3956   A1  :1548  \n",
       " Alliance française d'Auckland :  17   DELF Prim            : 859   A1.1: 248  \n",
       " Alliance française de Dublin  :  17   DELF scolaire/junior :2758   A2  :1709  \n",
       " Alliance française de Lisbonne:  17                                B1  :1537  \n",
       " Alliance Française Torino     :  17                                B2  :1469  \n",
       " Institut français             :  17                                C1  : 625  \n",
       " (Other)                       :7471                                C2  : 437  \n",
       "    Inscrits         Presents           Admis        \n",
       " Min.   :   1.0   Min.   :   0.00   Min.   :   1.00  \n",
       " 1st Qu.:   4.0   1st Qu.:   4.00   1st Qu.:   4.00  \n",
       " Median :  14.0   Median :  14.00   Median :  12.00  \n",
       " Mean   :  64.6   Mean   :  61.62   Mean   :  53.03  \n",
       " 3rd Qu.:  50.0   3rd Qu.:  48.00   3rd Qu.:  41.00  \n",
       " Max.   :6009.0   Max.   :5916.00   Max.   :5298.00  \n",
       "                                    NA's   :176      "
      ]
     },
     "metadata": {},
     "output_type": "display_data"
    }
   ],
   "source": [
    "summary(data)\n"
   ]
  },
  {
   "cell_type": "markdown",
   "id": "2b024676-7835-4174-a2b3-2342d95d6350",
   "metadata": {},
   "source": [
    "**Compter le nombre de valeus uniques par colonnes**"
   ]
  },
  {
   "cell_type": "code",
   "execution_count": 5,
   "id": "07191e82-16b2-4e8d-8e65-db538fecafb7",
   "metadata": {},
   "outputs": [
    {
     "name": "stdout",
     "output_type": "stream",
     "text": [
      "       Pays       Ville      Centre Declinaison      Niveau    Inscrits \n",
      "        161         941        1077           3           7         557 \n",
      "   Presents       Admis \n",
      "        536         497 \n"
     ]
    }
   ],
   "source": [
    "# Compter le nombre de valeurs uniques par colonne\n",
    "valeurs_uniques <- sapply(data, function(x) length(unique(x)))\n",
    "\n",
    "# Afficher le résultat\n",
    "print(valeurs_uniques)"
   ]
  },
  {
   "cell_type": "markdown",
   "id": "075f906d-1665-427b-bdce-6a7f2dfea1cd",
   "metadata": {},
   "source": [
    "## Ajouter des colonnes : Taux_admission , Abscent , Non Admis , Taux Non Admis \n",
    "Nous avons ajouté quatre colonnes : Taux_admission pour le pourcentage des admis, Absents pour le nombre d'inscrits absents, Non Admis pour les présents non admis, et Taux Non Admis pour leur pourcentage. Ces ajouts rendent l'analyse plus complète."
   ]
  },
  {
   "cell_type": "code",
   "execution_count": 6,
   "id": "0c2d6517-018d-43bf-b094-579603961f46",
   "metadata": {},
   "outputs": [
    {
     "data": {
      "text/html": [
       "<table>\n",
       "<thead><tr><th scope=col>Pays</th><th scope=col>Ville</th><th scope=col>Centre</th><th scope=col>Declinaison</th><th scope=col>Niveau</th><th scope=col>Inscrits</th><th scope=col>Presents</th><th scope=col>Admis</th><th scope=col>Non_Admis</th><th scope=col>Absents</th><th scope=col>Taux_admission</th><th scope=col>Taux_Non_Admis</th></tr></thead>\n",
       "<tbody>\n",
       "\t<tr><td>Mexique                                                     </td><td>Juárez                                                      </td><td>Alianza Francesa de Cd Juárez,  A.C                         </td><td>DELF scolaire/junior                                        </td><td>B1                                                          </td><td> 1                                                          </td><td> 1                                                          </td><td> 1                                                          </td><td>0                                                           </td><td>0                                                           </td><td>100.00000                                                   </td><td> 0.00000                                                    </td></tr>\n",
       "\t<tr><td>Mexique                                                     </td><td>Juárez                                                      </td><td>Alianza Francesa de Cd Juárez,  A.C                         </td><td>DELF-DALF tout public                                       </td><td>A1                                                          </td><td> 1                                                          </td><td> 1                                                          </td><td> 1                                                          </td><td>0                                                           </td><td>0                                                           </td><td>100.00000                                                   </td><td> 0.00000                                                    </td></tr>\n",
       "\t<tr><td>Mexique                                                     </td><td>Juárez                                                      </td><td>Alianza Francesa de Cd Juárez,  A.C                         </td><td>DELF-DALF tout public                                       </td><td>B1                                                          </td><td>14                                                          </td><td>13                                                          </td><td>10                                                          </td><td>3                                                           </td><td>1                                                           </td><td> 76.92308                                                   </td><td>23.07692                                                    </td></tr>\n",
       "\t<tr><td>France                                                      </td><td>Cayenne Cedex                                               </td><td>Centre pénitentiaire de Guyane,  Unité locale d'enseignement</td><td>DELF-DALF tout public                                       </td><td>A1                                                          </td><td> 6                                                          </td><td> 6                                                          </td><td> 6                                                          </td><td>0                                                           </td><td>0                                                           </td><td>100.00000                                                   </td><td> 0.00000                                                    </td></tr>\n",
       "\t<tr><td>France                                                      </td><td>Cayenne Cedex                                               </td><td>Centre pénitentiaire de Guyane,  Unité locale d'enseignement</td><td>DELF-DALF tout public                                       </td><td>A2                                                          </td><td>10                                                          </td><td>10                                                          </td><td>10                                                          </td><td>0                                                           </td><td>0                                                           </td><td>100.00000                                                   </td><td> 0.00000                                                    </td></tr>\n",
       "\t<tr><td>France                                                      </td><td>Fresnes                                                     </td><td>Centre Pénitentiaire des Hauts de Seine,  Nanterre          </td><td>DELF-DALF tout public                                       </td><td>A1                                                          </td><td> 8                                                          </td><td> 7                                                          </td><td> 7                                                          </td><td>0                                                           </td><td>1                                                           </td><td>100.00000                                                   </td><td> 0.00000                                                    </td></tr>\n",
       "</tbody>\n",
       "</table>\n"
      ],
      "text/latex": [
       "\\begin{tabular}{r|llllllllllll}\n",
       " Pays & Ville & Centre & Declinaison & Niveau & Inscrits & Presents & Admis & Non\\_Admis & Absents & Taux\\_admission & Taux\\_Non\\_Admis\\\\\n",
       "\\hline\n",
       "\t Mexique                                                      & Juárez                                                       & Alianza Francesa de Cd Juárez,  A.C                          & DELF scolaire/junior                                         & B1                                                           &  1                                                           &  1                                                           &  1                                                           & 0                                                            & 0                                                            & 100.00000                                                    &  0.00000                                                    \\\\\n",
       "\t Mexique                                                      & Juárez                                                       & Alianza Francesa de Cd Juárez,  A.C                          & DELF-DALF tout public                                        & A1                                                           &  1                                                           &  1                                                           &  1                                                           & 0                                                            & 0                                                            & 100.00000                                                    &  0.00000                                                    \\\\\n",
       "\t Mexique                                                      & Juárez                                                       & Alianza Francesa de Cd Juárez,  A.C                          & DELF-DALF tout public                                        & B1                                                           & 14                                                           & 13                                                           & 10                                                           & 3                                                            & 1                                                            &  76.92308                                                    & 23.07692                                                    \\\\\n",
       "\t France                                                       & Cayenne Cedex                                                & Centre pénitentiaire de Guyane,  Unité locale d'enseignement & DELF-DALF tout public                                        & A1                                                           &  6                                                           &  6                                                           &  6                                                           & 0                                                            & 0                                                            & 100.00000                                                    &  0.00000                                                    \\\\\n",
       "\t France                                                       & Cayenne Cedex                                                & Centre pénitentiaire de Guyane,  Unité locale d'enseignement & DELF-DALF tout public                                        & A2                                                           & 10                                                           & 10                                                           & 10                                                           & 0                                                            & 0                                                            & 100.00000                                                    &  0.00000                                                    \\\\\n",
       "\t France                                                       & Fresnes                                                      & Centre Pénitentiaire des Hauts de Seine,  Nanterre           & DELF-DALF tout public                                        & A1                                                           &  8                                                           &  7                                                           &  7                                                           & 0                                                            & 1                                                            & 100.00000                                                    &  0.00000                                                    \\\\\n",
       "\\end{tabular}\n"
      ],
      "text/markdown": [
       "\n",
       "| Pays | Ville | Centre | Declinaison | Niveau | Inscrits | Presents | Admis | Non_Admis | Absents | Taux_admission | Taux_Non_Admis |\n",
       "|---|---|---|---|---|---|---|---|---|---|---|---|\n",
       "| Mexique                                                      | Juárez                                                       | Alianza Francesa de Cd Juárez,  A.C                          | DELF scolaire/junior                                         | B1                                                           |  1                                                           |  1                                                           |  1                                                           | 0                                                            | 0                                                            | 100.00000                                                    |  0.00000                                                     |\n",
       "| Mexique                                                      | Juárez                                                       | Alianza Francesa de Cd Juárez,  A.C                          | DELF-DALF tout public                                        | A1                                                           |  1                                                           |  1                                                           |  1                                                           | 0                                                            | 0                                                            | 100.00000                                                    |  0.00000                                                     |\n",
       "| Mexique                                                      | Juárez                                                       | Alianza Francesa de Cd Juárez,  A.C                          | DELF-DALF tout public                                        | B1                                                           | 14                                                           | 13                                                           | 10                                                           | 3                                                            | 1                                                            |  76.92308                                                    | 23.07692                                                     |\n",
       "| France                                                       | Cayenne Cedex                                                | Centre pénitentiaire de Guyane,  Unité locale d'enseignement | DELF-DALF tout public                                        | A1                                                           |  6                                                           |  6                                                           |  6                                                           | 0                                                            | 0                                                            | 100.00000                                                    |  0.00000                                                     |\n",
       "| France                                                       | Cayenne Cedex                                                | Centre pénitentiaire de Guyane,  Unité locale d'enseignement | DELF-DALF tout public                                        | A2                                                           | 10                                                           | 10                                                           | 10                                                           | 0                                                            | 0                                                            | 100.00000                                                    |  0.00000                                                     |\n",
       "| France                                                       | Fresnes                                                      | Centre Pénitentiaire des Hauts de Seine,  Nanterre           | DELF-DALF tout public                                        | A1                                                           |  8                                                           |  7                                                           |  7                                                           | 0                                                            | 1                                                            | 100.00000                                                    |  0.00000                                                     |\n",
       "\n"
      ],
      "text/plain": [
       "  Pays    Ville        \n",
       "1 Mexique Juárez       \n",
       "2 Mexique Juárez       \n",
       "3 Mexique Juárez       \n",
       "4 France  Cayenne Cedex\n",
       "5 France  Cayenne Cedex\n",
       "6 France  Fresnes      \n",
       "  Centre                                                      \n",
       "1 Alianza Francesa de Cd Juárez,  A.C                         \n",
       "2 Alianza Francesa de Cd Juárez,  A.C                         \n",
       "3 Alianza Francesa de Cd Juárez,  A.C                         \n",
       "4 Centre pénitentiaire de Guyane,  Unité locale d'enseignement\n",
       "5 Centre pénitentiaire de Guyane,  Unité locale d'enseignement\n",
       "6 Centre Pénitentiaire des Hauts de Seine,  Nanterre          \n",
       "  Declinaison           Niveau Inscrits Presents Admis Non_Admis Absents\n",
       "1 DELF scolaire/junior  B1      1        1        1    0         0      \n",
       "2 DELF-DALF tout public A1      1        1        1    0         0      \n",
       "3 DELF-DALF tout public B1     14       13       10    3         1      \n",
       "4 DELF-DALF tout public A1      6        6        6    0         0      \n",
       "5 DELF-DALF tout public A2     10       10       10    0         0      \n",
       "6 DELF-DALF tout public A1      8        7        7    0         1      \n",
       "  Taux_admission Taux_Non_Admis\n",
       "1 100.00000       0.00000      \n",
       "2 100.00000       0.00000      \n",
       "3  76.92308      23.07692      \n",
       "4 100.00000       0.00000      \n",
       "5 100.00000       0.00000      \n",
       "6 100.00000       0.00000      "
      ]
     },
     "metadata": {},
     "output_type": "display_data"
    }
   ],
   "source": [
    "# Ajouter la colonne Non_Admis\n",
    "data[\"Non_Admis\"] <- data[\"Presents\"] - data[\"Admis\"]\n",
    "\n",
    "# Ajouter la colonne Absents\n",
    "data[\"Absents\"] <- data[\"Inscrits\"] - data[\"Presents\"]\n",
    "\n",
    "# Ajouter la colonne Taux_admission\n",
    "data[\"Taux_admission\"] <- (data[\"Admis\"] / data[\"Presents\"]) * 100\n",
    "\n",
    "\n",
    "# Ajouter la colonne Taux_Non_Admis\n",
    "data[\"Taux_Non_Admis\"] <- (data[\"Non_Admis\"] / data[\"Presents\"]) * 100\n",
    "\n",
    "# Afficher les premières lignes pour vérifier\n",
    "head(data)"
   ]
  },
  {
   "cell_type": "markdown",
   "id": "72c0d951-8928-4c44-8167-c9b6e751fa7e",
   "metadata": {},
   "source": [
    "**Générer un résumé statistique du dataframe**"
   ]
  },
  {
   "cell_type": "code",
   "execution_count": 7,
   "id": "b5f2cc15-fc57-4f6a-8cd6-6ac62fd58d7d",
   "metadata": {},
   "outputs": [
    {
     "data": {
      "text/plain": [
       "                   Pays                   Ville     \n",
       " France              : 703   Ciudad De México:  61  \n",
       " Mexique             : 460   Lyon            :  40  \n",
       " Espagne             : 394   Marseille       :  33  \n",
       " Grèce               : 394   Madrid          :  32  \n",
       " Fédération de Russie: 271   Buenos Aires    :  29  \n",
       " Italie              : 271   Jakarta         :  29  \n",
       " (Other)             :5080   (Other)         :7349  \n",
       "                            Centre                    Declinaison    Niveau    \n",
       " Alliance française            :  17   DELF-DALF tout public:3956   A1  :1548  \n",
       " Alliance française d'Auckland :  17   DELF Prim            : 859   A1.1: 248  \n",
       " Alliance française de Dublin  :  17   DELF scolaire/junior :2758   A2  :1709  \n",
       " Alliance française de Lisbonne:  17                                B1  :1537  \n",
       " Alliance Française Torino     :  17                                B2  :1469  \n",
       " Institut français             :  17                                C1  : 625  \n",
       " (Other)                       :7471                                C2  : 437  \n",
       "    Inscrits         Presents           Admis           Non_Admis     \n",
       " Min.   :   1.0   Min.   :   0.00   Min.   :   1.00   Min.   :  0.00  \n",
       " 1st Qu.:   4.0   1st Qu.:   4.00   1st Qu.:   4.00   1st Qu.:  0.00  \n",
       " Median :  14.0   Median :  14.00   Median :  12.00   Median :  1.00  \n",
       " Mean   :  64.6   Mean   :  61.62   Mean   :  53.03   Mean   : 10.01  \n",
       " 3rd Qu.:  50.0   3rd Qu.:  48.00   3rd Qu.:  41.00   3rd Qu.:  7.00  \n",
       " Max.   :6009.0   Max.   :5916.00   Max.   :5298.00   Max.   :704.00  \n",
       "                                    NA's   :176       NA's   :176     \n",
       "    Absents        Taux_admission    Taux_Non_Admis  \n",
       " Min.   :  0.000   Min.   :  4.082   Min.   : 0.000  \n",
       " 1st Qu.:  0.000   1st Qu.: 77.778   1st Qu.: 0.000  \n",
       " Median :  0.000   Median : 93.103   Median : 6.897  \n",
       " Mean   :  2.978   Mean   : 86.115   Mean   :13.885  \n",
       " 3rd Qu.:  1.000   3rd Qu.:100.000   3rd Qu.:22.222  \n",
       " Max.   :285.000   Max.   :100.000   Max.   :95.918  \n",
       "                   NA's   :176       NA's   :176     "
      ]
     },
     "metadata": {},
     "output_type": "display_data"
    }
   ],
   "source": [
    "\n",
    "summary(data)"
   ]
  },
  {
   "cell_type": "markdown",
   "id": "0e9e6ec6-db81-42b2-989c-821b49c2f29b",
   "metadata": {},
   "source": [
    "## Analyse des Performances par Niveau : Inscrits , Présents, Admis , Non Admis , Taux_admission, Taux Non Admis  \n",
    "\n",
    "Dans cette étape, nous analysons les performances par niveau en regroupant les données et en calculant plusieurs indicateurs clés : le nombre d'inscrits, de présents, d'absents, d'admis, et de non admis ainsi que les taux d'admission et de non-admission.\n",
    "\n",
    "Cette approche permet de présenter les données sous forme de tableaux organisés et faciles à comprendre. Bien que cela semble un peu technique, ces tableaux nous donnent une vue d’ensemble claire des résultats par niveau. Ils serviront ensuite de base pour des visualisations graphiques qui rendront les tendances encore plus évidentes."
   ]
  },
  {
   "cell_type": "code",
   "execution_count": 8,
   "id": "d84535ba-b5b9-443b-89f7-83ac6c88f909",
   "metadata": {},
   "outputs": [
    {
     "name": "stdout",
     "output_type": "stream",
     "text": [
      "\u001b[1mNombre d'inscriptions par niveau :\u001b[0m\n",
      "  Niveau Inscrits\n",
      "4     B1   127389\n",
      "3     A2   121298\n",
      "5     B2   101115\n",
      "1     A1    93973\n",
      "6     C1    24083\n",
      "2   A1.1    12370\n",
      "7     C2     8966\n"
     ]
    }
   ],
   "source": [
    "# Calculer le nombre d'inscriptions par niveau\n",
    "niveau_counts <- aggregate(Inscrits ~ Niveau, data, sum)\n",
    "\n",
    "# Trier les résultats par ordre décroissant\n",
    "niveau_counts <- niveau_counts[order(-niveau_counts$Inscrits), ]\n",
    "\n",
    "# Afficher les résultats avec un titre en gras\n",
    "cat(\"\\033[1mNombre d'inscriptions par niveau :\\033[0m\\n\")\n",
    "print(niveau_counts)"
   ]
  },
  {
   "cell_type": "code",
   "execution_count": 9,
   "id": "b5b5ecec-0a81-4268-b053-9354c6ba997c",
   "metadata": {},
   "outputs": [
    {
     "name": "stdout",
     "output_type": "stream",
     "text": [
      "\u001b[1mNombre de présents par niveau :\u001b[0m\n",
      "  Niveau Presents\n",
      "7     C2     8459\n",
      "2   A1.1    11820\n",
      "6     C1    22656\n",
      "1     A1    88459\n",
      "5     B2    97204\n",
      "3     A2   115524\n",
      "4     B1   122519\n"
     ]
    }
   ],
   "source": [
    "# Calculer le nombre de présents par niveau\n",
    "presents_par_niveau <- aggregate(Presents ~ Niveau, data, sum)\n",
    "\n",
    "# Trier les résultats par ordre croissant\n",
    "presents_par_niveau <- presents_par_niveau[order(presents_par_niveau$Presents), ]\n",
    "\n",
    "# Afficher les résultats avec un titre en gras\n",
    "cat(\"\\033[1mNombre de présents par niveau :\\033[0m\\n\")\n",
    "print(presents_par_niveau)"
   ]
  },
  {
   "cell_type": "code",
   "execution_count": 10,
   "id": "43c6d4fa-c1d5-431e-8aa1-66a4d6ecce5e",
   "metadata": {},
   "outputs": [
    {
     "name": "stdout",
     "output_type": "stream",
     "text": [
      "\u001b[1mNombre d'absents par niveau :\u001b[0m\n",
      "  Niveau Absents\n",
      "7     C2     507\n",
      "2   A1.1     550\n",
      "6     C1    1427\n",
      "5     B2    3911\n",
      "4     B1    4870\n",
      "1     A1    5514\n",
      "3     A2    5774\n"
     ]
    }
   ],
   "source": [
    "# Calculer le nombre d'absents par niveau\n",
    "absents_par_niveau <- aggregate(Absents ~ Niveau, data, sum)\n",
    "\n",
    "# Trier les résultats par ordre croissant\n",
    "absents_par_niveau <- absents_par_niveau[order(absents_par_niveau$Absents), ]\n",
    "\n",
    "# Afficher les résultats avec un titre en gras\n",
    "cat(\"\\033[1mNombre d'absents par niveau :\\033[0m\\n\")\n",
    "print(absents_par_niveau)"
   ]
  },
  {
   "cell_type": "code",
   "execution_count": 11,
   "id": "d514fc7e-9ff5-4494-ab3e-8ab73c0b4568",
   "metadata": {},
   "outputs": [
    {
     "name": "stdout",
     "output_type": "stream",
     "text": [
      "\u001b[1mNombre d'admis par niveau :\u001b[0m\n",
      "  Niveau  Admis\n",
      "3     A2 102364\n",
      "4     B1 102155\n",
      "1     A1  81237\n",
      "5     B2  73954\n",
      "6     C1  15854\n",
      "2   A1.1  11086\n",
      "7     C2   5613\n"
     ]
    }
   ],
   "source": [
    "# Calculer le nombre d'admis par niveau\n",
    "admis_par_niveau <- aggregate(Admis ~ Niveau, data, sum)\n",
    "\n",
    "# Trier les résultats par ordre décroissant\n",
    "admis_par_niveau <- admis_par_niveau[order(-admis_par_niveau$Admis), ]\n",
    "\n",
    "# Afficher les résultats avec un titre en gras\n",
    "cat(\"\\033[1mNombre d'admis par niveau :\\033[0m\\n\")\n",
    "print(admis_par_niveau)"
   ]
  },
  {
   "cell_type": "code",
   "execution_count": 12,
   "id": "5abe68af-3ec4-4bab-a5cb-b1a58735f8b8",
   "metadata": {},
   "outputs": [
    {
     "name": "stdout",
     "output_type": "stream",
     "text": [
      "\u001b[1mTaux d'admission par niveau :\u001b[0m\n",
      "  Niveau Taux_admission\n",
      "2   A1.1       93.79019\n",
      "1     A1       91.83577\n",
      "3     A2       88.60843\n",
      "4     B1       83.37890\n",
      "5     B2       76.08123\n",
      "6     C1       69.97705\n",
      "7     C2       66.35536\n"
     ]
    }
   ],
   "source": [
    "# Calculer le nombre d'admis et de présents par niveau\n",
    "admis_par_niveau <- aggregate(Admis ~ Niveau, data, sum)\n",
    "presents_par_niveau <- aggregate(Presents ~ Niveau, data, sum)\n",
    "\n",
    "# Fusionner les deux dataframes par niveau\n",
    "taux_admission_df <- merge(admis_par_niveau, presents_par_niveau, by = \"Niveau\")\n",
    "\n",
    "# Calculer le taux d'admission\n",
    "taux_admission_df$Taux_admission <- (taux_admission_df$Admis / taux_admission_df$Presents) * 100\n",
    "\n",
    "# Trier les résultats par ordre décroissant\n",
    "taux_admission_df <- taux_admission_df[order(-taux_admission_df$Taux_admission), ]\n",
    "\n",
    "# Afficher les résultats avec un titre en gras\n",
    "cat(\"\\033[1mTaux d'admission par niveau :\\033[0m\\n\")\n",
    "print(taux_admission_df[, c(\"Niveau\", \"Taux_admission\")])"
   ]
  },
  {
   "cell_type": "code",
   "execution_count": 13,
   "id": "bc2ff148-dfe3-45af-8a02-a9c988953325",
   "metadata": {},
   "outputs": [
    {
     "name": "stdout",
     "output_type": "stream",
     "text": [
      "\u001b[1mNombre de non-admis par niveau :\u001b[0m\n",
      "  Niveau Non_Admis\n",
      "5     B2     23178\n",
      "4     B1     20326\n",
      "3     A2     13132\n",
      "1     A1      7218\n",
      "6     C1      6753\n",
      "7     C2      2706\n",
      "2   A1.1       712\n"
     ]
    }
   ],
   "source": [
    "# Calculer le nombre de non-admis par niveau\n",
    "non_admis_par_niveau <- aggregate(Non_Admis ~ Niveau, data, sum)\n",
    "\n",
    "# Trier les résultats par ordre décroissant\n",
    "non_admis_par_niveau <- non_admis_par_niveau[order(-non_admis_par_niveau$Non_Admis), ]\n",
    "\n",
    "# Afficher les résultats avec un titre en gras\n",
    "cat(\"\\033[1mNombre de non-admis par niveau :\\033[0m\\n\")\n",
    "print(non_admis_par_niveau)"
   ]
  },
  {
   "cell_type": "code",
   "execution_count": 14,
   "id": "99ca4460-db39-4fb1-97a5-3e7d35b14009",
   "metadata": {},
   "outputs": [
    {
     "name": "stdout",
     "output_type": "stream",
     "text": [
      "\u001b[1mTaux de Non Admis par niveau :\u001b[0m\n",
      "  Niveau Taux_Non_Admis\n",
      "7     C2      31.989597\n",
      "6     C1      29.806674\n",
      "5     B2      23.844698\n",
      "4     B1      16.590080\n",
      "3     A2      11.367335\n",
      "1     A1       8.159712\n",
      "2   A1.1       6.023689\n"
     ]
    }
   ],
   "source": [
    "# Calculer le nombre de non admis par niveau\n",
    "non_admis_par_niveau <- aggregate(Non_Admis ~ Niveau, data, sum)\n",
    "\n",
    "# Fusionner avec le dataframe des présents par niveau\n",
    "taux_nonAdmis_df <- merge(non_admis_par_niveau, presents_par_niveau, by = \"Niveau\")\n",
    "\n",
    "# Calculer le taux de non admis\n",
    "taux_nonAdmis_df$Taux_Non_Admis <- (taux_nonAdmis_df$Non_Admis / taux_nonAdmis_df$Presents) * 100\n",
    "\n",
    "# Trier les résultats par ordre décroissant\n",
    "taux_nonAdmis_df <- taux_nonAdmis_df[order(-taux_nonAdmis_df$Taux_Non_Admis), ]\n",
    "\n",
    "# Afficher les résultats avec un titre en gras\n",
    "cat(\"\\033[1mTaux de Non Admis par niveau :\\033[0m\\n\")\n",
    "print(taux_nonAdmis_df[, c(\"Niveau\", \"Taux_Non_Admis\")])"
   ]
  },
  {
   "cell_type": "markdown",
   "id": "e448fa60-1428-4d9e-935e-d8335d0748ee",
   "metadata": {},
   "source": [
    "## forme de  graphique en barres"
   ]
  },
  {
   "cell_type": "markdown",
   "id": "3c94f6bf-909f-4b9d-81f3-b15dc03b5ea7",
   "metadata": {},
   "source": [
    "Visualisation du nombre d'inscriptions par niveau"
   ]
  },
  {
   "cell_type": "code",
   "execution_count": 15,
   "id": "75dbb89e-5660-4f64-bd35-e0db399df0e0",
   "metadata": {},
   "outputs": [
    {
     "name": "stdout",
     "output_type": "stream",
     "text": [
      "[1] \"Ce graphique en barres présente la distribution du nombre d'inscriptions par niveau, avec les niveaux allant de A1 à C2, et permet d'identifier la répartition des candidats en fonction de leur niveau de compétence en langue française. Les barres, colorées en bleu ciel, illustrent clairement la variation du nombre d'inscrits pour chaque niveau.\"\n"
     ]
    },
    {
     "data": {
      "image/png": "[encoded data removed]",
      "text/plain": [
       "Plot with title \"Nombre des inscriptions par niveau\""
      ]
     },
     "metadata": {},
     "output_type": "display_data"
    }
   ],
   "source": [
    "# Convertir la colonne \"Niveau\" en facteur avec un ordre spécifique\n",
    "niveau_counts$Niveau <- factor(niveau_counts$Niveau, \n",
    "                              levels = c(\"A1\", \"A1.1\", \"A2\", \"B1\", \"B2\", \"C1\", \"C2\"))\n",
    "\n",
    "# Trier les données par niveau\n",
    "niveau_counts <- niveau_counts[order(niveau_counts$Niveau), ]\n",
    "\n",
    "# Tracer un diagramme en barres\n",
    "barplot(niveau_counts$Inscrits, \n",
    "        names.arg = niveau_counts$Niveau,  # Étiquettes des barres\n",
    "        col = \"skyblue\",                   # Couleur des barres\n",
    "        main = \"Nombre des inscriptions par niveau\",  # Titre\n",
    "        xlab = \"Distribution des Niveaux\",            # Titre de l'axe X\n",
    "        ylab = \"Nombre\")                              # Titre de l'axe Y\n",
    "print (\"Ce graphique en barres présente la distribution du nombre d'inscriptions par niveau, avec les niveaux allant de A1 à C2, et permet d'identifier la répartition des candidats en fonction de leur niveau de compétence en langue française. Les barres, colorées en bleu ciel, illustrent clairement la variation du nombre d'inscrits pour chaque niveau.\")"
   ]
  },
  {
   "cell_type": "code",
   "execution_count": 16,
   "id": "64904272-f21f-4d2e-8cda-e0702749f675",
   "metadata": {},
   "outputs": [
    {
     "data": {
      "image/png": "[encoded data removed]",
      "text/plain": [
       "Plot with title \"Nombre de présents par niveau\""
      ]
     },
     "metadata": {},
     "output_type": "display_data"
    }
   ],
   "source": [
    "# Tracer un diagramme en barres\n",
    "barplot(presents_par_niveau$Presents, \n",
    "        names.arg = presents_par_niveau$Niveau,  # Étiquettes des barres\n",
    "        col = \"skyblue\",                         # Couleur des barres\n",
    "        main = \"Nombre de présents par niveau\",   # Titre\n",
    "        xlab = \"Distribution des Niveaux\",       # Titre de l'axe X\n",
    "        ylab = \"Nombre\")                         # Titre de l'axe Y"
   ]
  },
  {
   "cell_type": "code",
   "execution_count": 17,
   "id": "2504d70a-e805-4fea-884b-155da606e339",
   "metadata": {},
   "outputs": [
    {
     "data": {
      "image/png": "[encoded data removed]",
      "text/plain": [
       "Plot with title \"Nombre des absents par niveau\""
      ]
     },
     "metadata": {},
     "output_type": "display_data"
    }
   ],
   "source": [
    "# Définir des couleurs personnalisées pour chaque niveau\n",
    "colors <- c(\"red\", \"green\", \"blue\", \"orange\", \"purple\", \"pink\", \"brown\")\n",
    "\n",
    "# Ajuster la taille de la fenêtre graphique (largeur, hauteur)\n",
    "par(pin = c(4, 3))  # 4 pouces de largeur, 3 pouces de hauteur\n",
    "\n",
    "# Tracer un diagramme en barres avec des couleurs\n",
    "barplot(absents_par_niveau$Absents, \n",
    "        names.arg = absents_par_niveau$Niveau,  # Étiquettes des barres\n",
    "        col = colors,                           # Couleurs personnalisées\n",
    "        main = \"Nombre des absents par niveau\", # Titre\n",
    "        xlab = \"Distribution des Niveaux\",      # Titre de l'axe X\n",
    "        ylab = \"Nombre\",                        # Titre de l'axe Y\n",
    "        cex.main = 0.9,                         # Taille du titre\n",
    "        cex.lab = 0.8,                          # Taille des étiquettes d'axes\n",
    "        cex.names = 0.8)                        # Taille des étiquettes des barres"
   ]
  },
  {
   "cell_type": "markdown",
   "id": "6f9e4f82-3e88-42e2-99d8-8c56250935b5",
   "metadata": {},
   "source": [
    "****Visualisation du Taux d'admission  par niveau****\n",
    "\n",
    "Avec ce graphique, nous visualisons le taux d'admission par niveau. On observe que le niveau A1 a le taux d'admission le plus élevé, ce qui peut s’expliquer par sa facilité. En revanche, le niveau C2 a le taux d'admission le plus bas, probablement en raison de sa difficulté. Cette représentation met en évidence la corrélation entre la difficulté des niveaux et leurs taux d'admission.\n"
   ]
  },
  {
   "cell_type": "code",
   "execution_count": 18,
   "id": "4d79f6d9-f157-4eb2-a795-7000bd7ef309",
   "metadata": {},
   "outputs": [
    {
     "data": {
      "image/png": "[encoded data removed]",
      "text/plain": [
       "Plot with title \"Taux d'admission par niveau\""
      ]
     },
     "metadata": {},
     "output_type": "display_data"
    }
   ],
   "source": [
    "# Tracer un diagramme en barres avec une couleur unique (verte)\n",
    "barplot(taux_admission_df$Taux_admission, \n",
    "        names.arg = taux_admission_df$Niveau,  # Étiquettes des barres\n",
    "        col = \"green\",                         # Couleur des barres\n",
    "        main = \"Taux d'admission par niveau\",  # Titre\n",
    "        xlab = \"Distribution des Niveaux\",     # Titre de l'axe X\n",
    "        ylab = \"Taux d'admission (%)\",         # Titre de l'axe Y\n",
    "        cex.main = 0.9,                        # Taille du titre\n",
    "        cex.lab = 0.8,                         # Taille des étiquettes d'axes\n",
    "        cex.names = 0.8)                       # Taille des étiquettes des barres"
   ]
  },
  {
   "cell_type": "markdown",
   "id": "9a1570ce-30d3-4725-8b70-950b07c306c3",
   "metadata": {},
   "source": [
    "***Visualisation du Taux d'échec  par niveau***\n",
    "\n",
    "Ce graphique montre que le taux d'échec est le plus élevé pour le niveau C2, reflétant sa difficulté, et le plus bas pour le niveau A1, en raison de sa simplicité."
   ]
  },
  {
   "cell_type": "code",
   "execution_count": 19,
   "id": "69ee6632-3e8e-4803-8b04-009fcca18d9a",
   "metadata": {},
   "outputs": [
    {
     "data": {
      "image/png": "[encoded data removed]",
      "text/plain": [
       "Plot with title \"Taux d'échec par niveau\""
      ]
     },
     "metadata": {},
     "output_type": "display_data"
    }
   ],
   "source": [
    "# Tracer un diagramme en barres avec une couleur unique (rouge)\n",
    "barplot(taux_nonAdmis_df$Taux_Non_Admis, \n",
    "        names.arg = taux_nonAdmis_df$Niveau,  # Étiquettes des barres\n",
    "        col = \"red\",                                  # Couleur des barres\n",
    "        main = \"Taux d'échec par niveau\",             # Titre\n",
    "        xlab = \"Distribution des Niveaux\",            # Titre de l'axe X\n",
    "        ylab = \"Taux d'échec (%)\",                    # Titre de l'axe Y\n",
    "        cex.main = 0.9,                               # Taille du titre\n",
    "        cex.lab = 0.8,                                # Taille des étiquettes d'axes\n",
    "        cex.names = 0.8)                              # Taille des étiquettes des barres"
   ]
  },
  {
   "cell_type": "markdown",
   "id": "2665874c-13ff-4965-9f6a-5a7e4f7ac5cd",
   "metadata": {},
   "source": [
    "***Visualisation du Top 5 des pays avec le plus grand nombre d'admis sous forme de diagramme circulaire***\n",
    "\n",
    "Ce code montre les 5 pays avec le plus d'admis à travers un tableau et un diagramme circulaire. Cela permet aux étudiants souhaitant passer le DELF de savoir où se trouvent le plus d'admis, ce qui peut indiquer une meilleure qualité d'éducation."
   ]
  },
  {
   "cell_type": "code",
   "execution_count": 20,
   "id": "33617cd3-5885-41f8-8f57-78e9cf385c45",
   "metadata": {},
   "outputs": [
    {
     "name": "stdout",
     "output_type": "stream",
     "text": [
      "\u001b[1mTop 5 des pays par nombre d'admis :\u001b[0m\n",
      "        Pays Admis Inscrits\n",
      "56    France 67080    92759\n",
      "4  Allemagne 40732    45148\n",
      "76    Italie 29966    31725\n",
      "48   Espagne 28661    33149\n",
      "61     Grèce 18709    21916\n"
     ]
    }
   ],
   "source": [
    " # Étape 1 : Calculer le nombre total d'admis et d'inscrits par pays\n",
    "admis_par_pays <- aggregate(cbind(Admis, Inscrits) ~ Pays, data, sum)\n",
    "\n",
    "# Étape 2 : Trier les résultats par ordre décroissant (par nombre d'admis)\n",
    "admis_par_pays <- admis_par_pays[order(-admis_par_pays$Admis), ]\n",
    "\n",
    "# Étape 3 : Prendre les 5 premiers pays\n",
    "Top_5_admis_par_pays <- head(admis_par_pays, 5)\n",
    "\n",
    "# Afficher les résultats avec un titre en gras\n",
    "cat(\"\\033[1mTop 5 des pays par nombre d'admis :\\033[0m\\n\")\n",
    "print(Top_5_admis_par_pays)\n"
   ]
  },
  {
   "cell_type": "markdown",
   "id": "ed17689d-554d-492e-bc64-3258f296ece1",
   "metadata": {},
   "source": [
    "Le tableau présente les 5 pays avec le plus grand nombre d'admis au DELF. La France, en tête, compte un total de 67 080 admis, suivie de l'Allemagne avec 40 732 admis. Cette analyse permet de mieux comprendre les pays qui attirent le plus grand nombre de candidats et offre une indication utile aux étudiants pour identifier les pays où le DELF est le plus populaire, favorisant ainsi leur prise de décision quant à leur inscription et préparation aux examens."
   ]
  },
  {
   "cell_type": "code",
   "execution_count": 21,
   "id": "9571362c-9e22-4d48-ba6a-eed0bdadc160",
   "metadata": {},
   "outputs": [
    {
     "data": {
      "image/png": "[encoded data removed]",
      "text/plain": [
       "Plot with title \"Top 5 pays par nombre d'admis\""
      ]
     },
     "metadata": {},
     "output_type": "display_data"
    }
   ],
   "source": [
    "# Créer le dataframe avec les résultats donnés\n",
    "Top_5_admis_par_pays <- data.frame(Pays = c(\"France\", \"Allemagne\", \"Italie\", \"Espagne\", \"Grèce\"),\n",
    "  Admis = c(67080, 40732, 29966, 28661, 18709))\n",
    "# Calculer les pourcentages d'admis par rapport au total\n",
    "pourcentages <- round(Top_5_admis_par_pays$Admis / sum(Top_5_admis_par_pays$Admis) * 100, 1)\n",
    "# Créer les étiquettes avec les pourcentages\n",
    "etiquettes <- paste(Top_5_admis_par_pays$Pays, \" (\", pourcentages, \"%)\", sep = \"\")\n",
    "# Créer le camembert\n",
    "pie(Top_5_admis_par_pays$Admis, \n",
    "    labels = etiquettes,\n",
    "    main = \"Top 5 pays par nombre d'admis\",\n",
    "    col = rainbow(length(Top_5_admis_par_pays$Pays)),\n",
    "    cex.main = 1.2,  # Taille du titre\n",
    "    cex.lab = 1,   # Taille des labels\n",
    "    cex.axis = 0.9)  # Taille des axes\n"
   ]
  },
  {
   "cell_type": "markdown",
   "id": "155db727-812f-43fc-97e3-d2bf5d05b3bd",
   "metadata": {},
   "source": [
    "**Top Villes par Admis dans les Top 5 Pays**\n",
    "\n",
    "Comme nous avons identifié les 5 meilleurs pays, nous continuons en trouvant la meilleure ville dans chaque pays parmi ces Top 5. Cela aide les étudiants à choisir la ville idéale pour passer le DELF. Les résultats sont présentés en tableau et graphique."
   ]
  },
  {
   "cell_type": "code",
   "execution_count": 22,
   "id": "5be299c4-4906-4493-b1e6-3cf775e00338",
   "metadata": {},
   "outputs": [
    {
     "name": "stdout",
     "output_type": "stream",
     "text": [
      "\u001b[1mTop 5 des villes avec le plus grand nombre d'admis par pays :\u001b[0m\n",
      "         Pays   Ville Admis Inscrits\n",
      "17      Grèce Athènes 13792    16027\n",
      "153 Allemagne  Munich  9587    10618\n",
      "138    France    Lyon  6917     9459\n",
      "140   Espagne  Madrid  5689     6248\n",
      "148    Italie   Milan  4263     4466\n"
     ]
    },
    {
     "data": {
      "image/png": "[encoded data removed]",
      "text/plain": [
       "Plot with title \"Meilleures villes par Admis (Top 5 pays)\""
      ]
     },
     "metadata": {},
     "output_type": "display_data"
    }
   ],
   "source": [
    "# Étape 1 : Filtrer les 5 pays ayant le plus grand nombre d'admis\n",
    "top_5_pays <- aggregate(cbind(Admis, Inscrits) ~ Pays, data, sum)\n",
    "top_5_pays <- top_5_pays[order(-top_5_pays$Admis), ]  # Trier par ordre décroissant\n",
    "top_5_pays <- head(top_5_pays, 5)$Pays  # Garder les 5 premiers pays\n",
    "\n",
    "# Étape 2 : Filtrer les données pour ces pays\n",
    "data_top_5 <- data[data$Pays %in% top_5_pays, ]\n",
    "\n",
    "# Étape 3 : Calculer le nombre d'admis et d'inscrits par ville et pays\n",
    "admis_par_ville_pays <- aggregate(cbind(Admis, Inscrits) ~ Pays + Ville, data_top_5, sum)\n",
    "\n",
    "# Étape 4 : Trier par nombre d'admis décroissant\n",
    "admis_par_ville_pays <- admis_par_ville_pays[order(-admis_par_ville_pays$Admis), ]\n",
    "\n",
    "# Étape 5 : Sélectionner la meilleure ville pour chaque pays\n",
    "top_5_villes <- admis_par_ville_pays[!duplicated(admis_par_ville_pays$Pays), ]\n",
    "\n",
    "# Afficher les résultats\n",
    "cat(\"\\033[1mTop 5 des villes avec le plus grand nombre d'admis par pays :\\033[0m\\n\")\n",
    "print(top_5_villes)\n",
    "\n",
    "# Création du graphique en barres avec uniquement les noms des villes\n",
    "barplot(top_5_villes$Admis, names.arg = top_5_villes$Ville,  col = \"green\",  main = \"Meilleures villes par Admis (Top 5 pays)\",  xlab = \"Ville\", \n",
    "        ylab = \"Nombre d'Admis\", las = 2,  \n",
    "        cex.names = 0.7,  # Réduction de la taille des noms\n",
    "        cex.axis = 0.8,   # Réduction de la taille des axes\n",
    "        border = \"black\")  # Ajout de bordures aux barres\n",
    "# Encadrement du graphique\n",
    "box()\n"
   ]
  },
  {
   "cell_type": "markdown",
   "id": "fe5fdc65-6f9e-423d-99e5-9dc2608d76ba",
   "metadata": {},
   "source": [
    "## Top 5 villes de France\n",
    "L'analyse des 5 meilleures villes de France par nombre d'admis a été réalisée dans le but de fournir aux étudiants une vue d'ensemble des villes offrant les meilleures opportunités d'admission. Cette analyse permet de mieux orienter les candidats en identifiant les villes les plus performantes, et ainsi, les aider à choisir un lieu d'étude optimal en fonction du nombre d'admis. Le graphique en barres et le tableau des résultats permettent une visualisation claire des villes les plus attractives, offrant ainsi une aide précieuse pour les décisions académiques des étudiants."
   ]
  },
  {
   "cell_type": "code",
   "execution_count": 23,
   "id": "69f6493c-8ca9-4867-9495-5d0a492130de",
   "metadata": {},
   "outputs": [
    {
     "name": "stdout",
     "output_type": "stream",
     "text": [
      "\u001b[1mTop 5 villes de France par nombre d'admis :\u001b[0m\n",
      "           Ville Admis Inscrits\n",
      "57          Lyon  6917     9459\n",
      "60     Marseille  3986     5339\n",
      "44 Gennevilliers  3559     5648\n",
      "5         Amiens  3298     4133\n",
      "96   Saint Denis  2868     4041\n"
     ]
    },
    {
     "data": {
      "image/png": "[encoded data removed]",
      "text/plain": [
       "Plot with title \"Top 5 villes de France par nombre d'admis\""
      ]
     },
     "metadata": {},
     "output_type": "display_data"
    }
   ],
   "source": [
    "# Étape 1 : Filtrer les données pour la France\n",
    "data_france <- data[data$Pays == \"France\", ]\n",
    "\n",
    "# Étape 2 : Calculer le nombre d'admis et d'inscrits par ville en France\n",
    "admis_par_ville_france <- aggregate(cbind(Admis, Inscrits) ~ Ville, data_france, sum)\n",
    "\n",
    "# Étape 3 : Trier les villes par nombre d'admis décroissant\n",
    "admis_par_ville_france <- admis_par_ville_france[order(-admis_par_ville_france$Admis), ]\n",
    "\n",
    "# Étape 4 : Sélectionner les 5 meilleures villes\n",
    "top_5_villes_france <- head(admis_par_ville_france, 5)\n",
    "\n",
    "# Afficher les résultats sous forme de tableau\n",
    "cat(\"\\033[1mTop 5 villes de France par nombre d'admis :\\033[0m\\n\")\n",
    "print(top_5_villes_france)\n",
    "\n",
    "# Créer un graphique en barres pour visualiser les résultats\n",
    "barplot(top_5_villes_france$Admis, \n",
    "        names.arg = top_5_villes_france$Ville, \n",
    "        col = rainbow(length(top_5_villes_france$Ville)), \n",
    "        main = \"Top 5 villes de France par nombre d'admis\", \n",
    "        xlab = \"Ville\", \n",
    "        ylab = \"Nombre d'Admis\", \n",
    "        las = 2,  # Rotation des labels de l'axe x\n",
    "        cex.names = 0.8,  # Taille des labels\n",
    "        cex.axis = 0.8,   # Taille des axes\n",
    "        border = \"black\")  # Bordures des barres\n",
    "\n",
    "# Encadrement du graphique\n",
    "box()"
   ]
  },
  {
   "cell_type": "markdown",
   "id": "a0ac8314-bb70-4809-9e0d-5ded9d414555",
   "metadata": {},
   "source": [
    "## Top 2 centres à Lyon par nombre d'admis\n",
    "Cette analyse permet de déterminer les deux meilleurs centres à Lyon en fonction du nombre d'admis, afin d'aider les étudiants à identifier les établissements les plus performants dans cette ville."
   ]
  },
  {
   "cell_type": "code",
   "execution_count": 24,
   "id": "77876901-2cb6-4e59-ba89-061946eb3c0a",
   "metadata": {},
   "outputs": [
    {
     "name": "stdout",
     "output_type": "stream",
     "text": [
      "\u001b[1mTop 2 centres à Lyon :\u001b[0m\n",
      "Centre                         | Admis      | Inscrits  \n",
      "Rectorat de l'académie de Lyon - Division des examens et concours | 1971       | 2490      \n",
      "REN Formation                  | 1589       | 2094      \n"
     ]
    }
   ],
   "source": [
    "# Étape 1 : Filtrer les données pour la ville de Lyon\n",
    "data_lyon <- data[data$Ville == \"Lyon\", ]\n",
    "\n",
    "# Étape 2 : Calculer le nombre d'admis et d'inscrits par centre à Lyon\n",
    "admis_par_centre_lyon <- aggregate(cbind(Admis, Inscrits) ~ Centre, data_lyon, sum)\n",
    "# Étape 3 : Trier les centres par nombre d'admis décroissant\n",
    "admis_par_centre_lyon <- admis_par_centre_lyon[order(-admis_par_centre_lyon$Admis), ]\n",
    "\n",
    "# Étape 4 : Sélectionner les 2 meilleurs centres\n",
    "top_2_centres_lyon <- head(admis_par_centre_lyon, 2)\n",
    "\n",
    "# Étape 5 : Afficher les résultats sous forme de tableau\n",
    "cat(\"\\033[1mTop 2 centres à Lyon :\\033[0m\\n\")\n",
    "cat(sprintf(\"%-30s | %-10s | %-10s\\n\", \"Centre\", \"Admis\", \"Inscrits\"))\n",
    "for (i in 1:nrow(top_2_centres_lyon)) {cat(sprintf(\"%-30s | %-10d | %-10d\\n\", top_2_centres_lyon$Centre[i], \n",
    "              top_2_centres_lyon$Admis[i], \n",
    "              top_2_centres_lyon$Inscrits[i]))}\n"
   ]
  },
  {
   "cell_type": "markdown",
   "id": "e6f0601e-6a87-475b-a492-bb0a9294863b",
   "metadata": {},
   "source": [
    "Les deux centres les plus performants à Lyon sont le \"Rectorat de l'académie de Lyon\" et \"REN Formation\", avec un nombre d'admis élevé mais un écart notable entre les inscrits et les admis. Cela indique qu'il existe un potentiel d'amélioration dans la préparation des étudiants.\n",
    "\n",
    "Cette analyse aide les étudiants à choisir les centres les plus efficaces pour maximiser leurs chances d'admission en mettant en lumière les meilleurs et les moins performants.\n"
   ]
  },
  {
   "cell_type": "code",
   "execution_count": 25,
   "id": "1226487a-f5f8-4952-a1c8-67ab2e224d61",
   "metadata": {},
   "outputs": [
    {
     "data": {
      "image/png": "[encoded data removed]",
      "text/plain": [
       "Plot with title \"Top 2 centres à Lyon par nombre d'admis\""
      ]
     },
     "metadata": {},
     "output_type": "display_data"
    }
   ],
   "source": [
    "# Créer un graphique en barres\n",
    "barplot(top_2_centres_lyon$Admis, names.arg = top_2_centres_lyon$Centre, col = c(\"skyblue\", \"lightgreen\"),  main = \"Top 2 centres à Lyon par nombre d'admis\", xlab = \"Centre\", \n",
    "        ylab = \"Nombre d'Admis\", ylim = c(0, max(top_2_centres_lyon$Admis) * 1.1),  \n",
    "        las = 1,  \n",
    "        cex.names = 0.8,  \n",
    "        cex.axis = 0.8,   border = \"black\")  \n",
    "# Ajouter des valeurs au-dessus des barres\n",
    "text(x = 1:2, y = top_2_centres_lyon$Admis, labels = top_2_centres_lyon$Admis, pos = 3,  col = \"black\", cex = 0.9)\n",
    "# Encadrement du graphique\n",
    "box()"
   ]
  },
  {
   "cell_type": "markdown",
   "id": "ef621850-11dd-4b1a-9fa6-bef0758408e7",
   "metadata": {},
   "source": [
    "## Top Centres dans les 5 meilleures villes de France,\n",
    "Cette analyse permet aux étudiants de choisir les meilleurs centres dans les 5 villes les plus performantes, en se basant sur le nombre d'admis, pour les aider à prendre des décisions éclairées sur leur parcours académique."
   ]
  },
  {
   "cell_type": "code",
   "execution_count": 26,
   "id": "2424c62b-3021-4465-8001-8cf51f011584",
   "metadata": {},
   "outputs": [
    {
     "name": "stdout",
     "output_type": "stream",
     "text": [
      "\u001b[1mMeilleur centre dans chaque ville (Top 5 villes de France) :\u001b[0m\n",
      "------------------------------------------------------------\n",
      "Ville           | Centre                         | Admis     \n",
      "------------------------------------------------------------\n",
      "Amiens          | RECTORAT                       | 3096      \n",
      "Gennevilliers   | PROSODIA                       | 3559      \n",
      "Lyon            | Rectorat de l'académie de Lyon - Division des examens et concours | 1971      \n",
      "Marseille       | Direction académique des Services de l'Education nationale des Bouches du-Rhône | 2253      \n",
      "Saint Denis     | GRETA 93 SEINE ST DENIS        | 1573      \n",
      "------------------------------------------------------------\n"
     ]
    }
   ],
   "source": [
    "\n",
    "# Étape 1 : Filtrer les données pour les 5 meilleures villes de France\n",
    "data_top_5_villes_france <- data[data$Ville %in% top_5_villes_france$Ville, ]\n",
    "\n",
    "# Étape 2 : Calculer le nombre d'admis par centre dans ces villes\n",
    "admis_par_centre_france <- aggregate(Admis ~ Ville + Centre, data_top_5_villes_france, sum)\n",
    "\n",
    "# Étape 3 : Trier les centres par nombre d'admis décroissant\n",
    "admis_par_centre_france <- admis_par_centre_france[order(-admis_par_centre_france$Admis), ]\n",
    "\n",
    "# Étape 4 : Sélectionner le meilleur centre pour chaque ville\n",
    "meilleur_centre_par_ville <- do.call(rbind, lapply(split(admis_par_centre_france, admis_par_centre_france$Ville), function(x) head(x, 1)))\n",
    "\n",
    "# Étape 5 : Améliorer la présentation du tableau\n",
    "# Créer un tableau bien formaté\n",
    "tableau_organise <- data.frame(Ville = meilleur_centre_par_ville$Ville,Centre = meilleur_centre_par_ville$Centre,Admis = meilleur_centre_par_ville$Admis)\n",
    "\n",
    "# Afficher le tableau avec un alignement propre \n",
    "cat(\"\\033[1mMeilleur centre dans chaque ville (Top 5 villes de France) :\\033[0m\\n\")\n",
    "cat(\"------------------------------------------------------------\\n\")\n",
    "cat(sprintf(\"%-15s | %-30s | %-10s\\n\", \"Ville\", \"Centre\", \"Admis\"))\n",
    "cat(\"------------------------------------------------------------\\n\")\n",
    "for (i in 1:nrow(tableau_organise)) {cat(sprintf(\"%-15s | %-30s | %-10d\\n\", tableau_organise$Ville[i], tableau_organise$Centre[i], tableau_organise$Admis[i]))}\n",
    "cat(\"------------------------------------------------------------\\n\")"
   ]
  },
  {
   "cell_type": "markdown",
   "id": "a60f58a3-7fd1-4554-a692-e982c2d5f145",
   "metadata": {},
   "source": [
    "## Top 5 des pays avec le moins d'admis\n",
    "Cette analyse permet à la France de mieux comprendre les pays avec le moins d'admis, afin de cibler ces marchés pour attirer davantage d'étudiants internationaux. En identifiant ces pays, la France peut adapter ses stratégies de recrutement et offrir des opportunités d'admission pour améliorer l'attractivité des études françaises."
   ]
  },
  {
   "cell_type": "code",
   "execution_count": 27,
   "id": "7b54009b-6c06-471d-8b6a-4019089432be",
   "metadata": {},
   "outputs": [
    {
     "name": "stdout",
     "output_type": "stream",
     "text": [
      "\u001b[1mTop 5 des pays avec le moins d'Admis :\u001b[0m\n",
      "                    Pays Admis Inscrits\n",
      "115            Palestine     2        2\n",
      "46              Equateur     3        4\n",
      "62               Grenade     3        4\n",
      "57                 Gabon     4        5\n",
      "134 Saint-Kitts-et-Nevis     4        4\n"
     ]
    },
    {
     "data": {
      "image/png": "[encoded data removed]",
      "text/plain": [
       "Plot with title \"Top 5 des pays avec le plus faible nombre d'admis\""
      ]
     },
     "metadata": {},
     "output_type": "display_data"
    }
   ],
   "source": [
    "# Étape 1 : Calculer le nombre total d'admis et d'inscrits par pays\n",
    "admis_par_pays <- aggregate(cbind(Admis, Inscrits) ~ Pays, data, sum)\n",
    "\n",
    "# Étape 2 : Trier les pays par nombre d'admis (croissant)\n",
    "admis_par_pays <- admis_par_pays[order(admis_par_pays$Admis), ]\n",
    "\n",
    "# Étape 3 : Sélectionner les 5 pays avec le plus faible nombre d'admis\n",
    "top_5_pays_faible_admis <- head(admis_par_pays, 5)\n",
    "\n",
    "# Afficher le Top 5 des pays avec le moins d'admis\n",
    "cat(\"\\033[1mTop 5 des pays avec le moins d'Admis :\\033[0m\\n\")\n",
    "print(top_5_pays_faible_admis)\n",
    "\n",
    "\n",
    "# Étape 4 : Créer un graphique en barres\n",
    "barplot(top_5_pays_faible_admis$Admis, names.arg = top_5_pays_faible_admis$Pays, col = \"lightcoral\",  \n",
    "        main = \"Top 5 des pays avec le plus faible nombre d'admis\", xlab = \"Pays\", ylab = \"Nombre d'Admis\", ylim = c(0, max(top_5_pays_faible_admis$Admis) * 1.1),  \n",
    "        las = 1,  cex.names = 0.8,  # Taille des labels des pays\n",
    "        cex.axis = 0.8,   # Taille des axes\n",
    "        border = \"black\", space = 0.5)  # Espacement entre les barres\n",
    "# Encadrement du graphique\n",
    "box()\n"
   ]
  },
  {
   "cell_type": "markdown",
   "id": "8e899fb1-1078-4999-b0ed-d9a66b4bf344",
   "metadata": {},
   "source": [
    "Les pays ayant le moins d'admis, tels que la Palestine, l'Équateur, la Grenade, le Gabon et Saint-Kitts-et-Nevis, montrent des faibles taux d'admission par rapport aux inscrits. Pour améliorer cette situation, il est crucial de renforcer les programmes d'accompagnement et de soutien à l'orientation des étudiants, d'améliorer la préparation aux examens et de mettre en place des initiatives pour mieux orienter les candidats afin qu'ils puissent réussir les processus d'admission. De plus, des efforts doivent être faits pour accroître l'accès à la formation, notamment en améliorant les infrastructures éducatives et en sensibilisant davantage les étudiants aux opportunités académiques"
   ]
  },
  {
   "cell_type": "markdown",
   "id": "c006cadb-8daf-43da-aef1-fb98ff54478f",
   "metadata": {},
   "source": [
    "## Conclusion :\n",
    "\n",
    "L’analyse des données du DELF met en lumière les pays avec un faible nombre d'admis, tels que la Palestine, l'Équateur, la Grenade, le Gabon et Saint-Kitts-et-Nevis. Bien que le nombre d'inscrits dans ces pays soit relativement bas, le taux d'admission reste faible. Cette situation nécessite une attention particulière, notamment par la mise en place de programmes de préparation adaptés et d'un meilleur soutien à l'orientation des candidats. En renforçant l'accompagnement et en ciblant ces pays avec des stratégies de recrutement adaptées, la France pourrait améliorer les taux d'admission et rendre le DELF plus accessible à un plus grand nombre d'étudiants internationaux.\n",
    "\n",
    "L'analyse des données montre des pays et villes performants dans les inscriptions et les admissions au DELF. En tête, la France, l'Allemagne, l'Italie, l'Espagne et la Grèce se distinguent par un nombre élevé d'admis. Les villes comme Athènes, Munich, Lyon, Madrid et Milan sont des destinations populaires, attirant un grand nombre d'étudiants, ce qui met en évidence leur rôle clé dans la diffusion du DELF à l'international.\n",
    "\n",
    "L'analyse des centres par ville, en particulier à Lyon, révèle des établissements performants comme le Rectorat de l'académie de Lyon, qui se distingue par un nombre élevé d'admissions. Cette information est cruciale pour orienter les futurs candidats vers des centres offrant de meilleures chances de réussite.\n",
    "\n",
    "En somme, ces analyses permettent non seulement d'identifier les villes et centres les plus attractifs mais aussi de fournir aux candidats des informations stratégiques pour leur orientation, améliorant ainsi leur expérience dans le cadre de la préparation au DELF.\n",
    "\n",
    "**Réalisé par :**\n",
    "\n",
    "Saleh BA-ZIGHIFAN\n",
    "\n",
    "Abdulaziz Al-KHULAQI\n",
    "\n",
    "Abdulrahman BA GUBAIR\n"
   ]
  }
 ],
 "metadata": {
  "kernelspec": {
   "display_name": "R",
   "language": "R",
   "name": "ir"
  },
  "language_info": {
   "codemirror_mode": "r",
   "file_extension": ".r",
   "mimetype": "text/x-r-source",
   "name": "R",
   "pygments_lexer": "r",
   "version": "3.6.1"
  }
 },
 "nbformat": 4,
 "nbformat_minor": 5
}
